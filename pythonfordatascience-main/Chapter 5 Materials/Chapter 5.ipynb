{
 "cells": [
  {
   "cell_type": "code",
   "execution_count": 1,
   "id": "e418dd84-1acd-4e30-861f-fc64b7f189f1",
   "metadata": {},
   "outputs": [
    {
     "name": "stdout",
     "output_type": "stream",
     "text": [
      "What is the name of the file?  franzkafka.txt\n",
      "What is the opening mode?  r+\n",
      "Is it closed?  False\n"
     ]
    }
   ],
   "source": [
    "quotes = open(\"franzkafka.txt\", \"r+\")\n",
    "\n",
    "print(\"What is the name of the file? \", quotes.name)\n",
    "print(\"What is the opening mode? \", quotes.mode)\n",
    "print(\"Is it closed? \", quotes.closed)\n"
   ]
  },
  {
   "cell_type": "code",
   "execution_count": 2,
   "id": "3db9c860-ef92-4dd3-9676-c00f769a5713",
   "metadata": {},
   "outputs": [
    {
     "name": "stdout",
     "output_type": "stream",
     "text": [
      "I think we ought to read only the kind of books that wound or stab us. \n",
      "If the book we're reading doesn't wake us up with a blow to the head, what are we reading for? \n",
      "So that it will make us happy, as you write? \n",
      "Good Lord, we would be happy precisely if we had no books, and the kind of books that make us happy are the kind we could write ourselves if we had to. \n",
      "But we need books that affect us like a disaster, that grieve us deeply, like the death of someone we loved more than ourselves, like being banished into forests far from everyone, like a suicide. \n",
      "A book must be the axe for the frozen sea within us. \n",
      "That is my belief.\n"
     ]
    }
   ],
   "source": [
    "text = quotes.read()\n",
    "\n",
    "print(text)"
   ]
  },
  {
   "cell_type": "code",
   "execution_count": 3,
   "id": "ced96170-62fb-4828-a358-f882ab5c89b7",
   "metadata": {},
   "outputs": [
    {
     "name": "stdout",
     "output_type": "stream",
     "text": [
      "Is it closed?  True\n"
     ]
    }
   ],
   "source": [
    "quotes.close()\n",
    "\n",
    "print(\"Is it closed? \", quotes.closed)"
   ]
  },
  {
   "cell_type": "code",
   "execution_count": 1,
   "id": "fe41707b-9092-4402-9e19-006847c4dd50",
   "metadata": {},
   "outputs": [],
   "source": [
    "newfile = open(\"newfile.txt\", \"w+\")\n",
    "\n",
    "newfile.write(\"Python is a great language!\\nPython is fun to learn!\\nI love Python <3\")\n",
    "newfile.close()"
   ]
  },
  {
   "cell_type": "code",
   "execution_count": 1,
   "id": "a3e649b3-2ae9-48e6-9838-2324a8ffa6a3",
   "metadata": {},
   "outputs": [
    {
     "name": "stdout",
     "output_type": "stream",
     "text": [
      "chars ['I', 't', 'h', 'i', 'n', 'k', 'w', 'e', 'o', 'u', 'g', 'h', 't', 't', 'o', 'r', 'e', 'a', 'd', 'o', 'n', 'l', 'y', 't', 'h', 'e', 'k', 'i', 'n', 'd', 'o', 'f', 'b', 'o', 'o', 'k', 's', 't', 'h', 'a', 't', 'w', 'o', 'u', 'n', 'd', 'o', 'r', 's', 't', 'a', 'b', 'u', 's', 'I', 'f', 't', 'h', 'e', 'b', 'o', 'o', 'k', 'w', 'e', \"'\", 'r', 'e', 'r', 'e', 'a', 'd', 'i', 'n', 'g', 'd', 'o', 'e', 's', 'n', \"'\", 't', 'w', 'a', 'k', 'e', 'u', 's', 'u', 'p', 'w', 'i', 't', 'h', 'a', 'b', 'l', 'o', 'w', 't', 'o', 't', 'h', 'e', 'h', 'e', 'a', 'd', 'w', 'h', 'a', 't', 'a', 'r', 'e', 'w', 'e', 'r', 'e', 'a', 'd', 'i', 'n', 'g', 'f', 'o', 'r', '?', 'S', 'o', 't', 'h', 'a', 't', 'i', 't', 'w', 'i', 'l', 'l', 'm', 'a', 'k', 'e', 'u', 's', 'h', 'a', 'p', 'p', 'y', 'a', 's', 'y', 'o', 'u', 'w', 'r', 'i', 't', 'e', '?', 'G', 'o', 'o', 'd', 'L', 'o', 'r', 'd', 'w', 'e', 'w', 'o', 'u', 'l', 'd', 'b', 'e', 'h', 'a', 'p', 'p', 'y', 'p', 'r', 'e', 'c', 'i', 's', 'e', 'l', 'y', 'i', 'f', 'w', 'e', 'h', 'a', 'd', 'n', 'o', 'b', 'o', 'o', 'k', 's', 'a', 'n', 'd', 't', 'h', 'e', 'k', 'i', 'n', 'd', 'o', 'f', 'b', 'o', 'o', 'k', 's', 't', 'h', 'a', 't', 'm', 'a', 'k', 'e', 'u', 's', 'h', 'a', 'p', 'p', 'y', 'a', 'r', 'e', 't', 'h', 'e', 'k', 'i', 'n', 'd', 'w', 'e', 'c', 'o', 'u', 'l', 'd', 'w', 'r', 'i', 't', 'e', 'o', 'u', 'r', 's', 'e', 'l', 'v', 'e', 's', 'i', 'f', 'w', 'e', 'h', 'a', 'd', 't', 'o', 'B', 'u', 't', 'w', 'e', 'n', 'e', 'e', 'd', 'b', 'o', 'o', 'k', 's', 't', 'h', 'a', 't', 'a', 'f', 'f', 'e', 'c', 't', 'u', 's', 'l', 'i', 'k', 'e', 'a', 'd', 'i', 's', 'a', 's', 't', 'e', 'r', 't', 'h', 'a', 't', 'g', 'r', 'i', 'e', 'v', 'e', 'u', 's', 'd', 'e', 'e', 'p', 'l', 'y', 'l', 'i', 'k', 'e', 't', 'h', 'e', 'd', 'e', 'a', 't', 'h', 'o', 'f', 's', 'o', 'm', 'e', 'o', 'n', 'e', 'w', 'e', 'l', 'o', 'v', 'e', 'd', 'm', 'o', 'r', 'e', 't', 'h', 'a', 'n', 'o', 'u', 'r', 's', 'e', 'l', 'v', 'e', 's', 'l', 'i', 'k', 'e', 'b', 'e', 'i', 'n', 'g', 'b', 'a', 'n', 'i', 's', 'h', 'e', 'd', 'i', 'n', 't', 'o', 'f', 'o', 'r', 'e', 's', 't', 's', 'f', 'a', 'r', 'f', 'r', 'o', 'm', 'e', 'v', 'e', 'r', 'y', 'o', 'n', 'e', 'l', 'i', 'k', 'e', 'a', 's', 'u', 'i', 'c', 'i', 'd', 'e', 'A', 'b', 'o', 'o', 'k', 'm', 'u', 's', 't', 'b', 'e', 't', 'h', 'e', 'a', 'x', 'e', 'f', 'o', 'r', 't', 'h', 'e', 'f', 'r', 'o', 'z', 'e', 'n', 's', 'e', 'a', 'w', 'i', 't', 'h', 'i', 'n', 'u', 's', 'T', 'h', 'a', 't', 'i', 's', 'm', 'y', 'b', 'e', 'l', 'i', 'e', 'f']\n",
      "Number of Characters (excluding withespace and punctuation):  490\n",
      "Number of Lines:  6\n",
      "Number of Words:  129\n",
      "Number of Sentences:  5\n"
     ]
    }
   ],
   "source": [
    "text_dict = {\n",
    "    'characters': 0,\n",
    "    'lines': 0,\n",
    "    'words': 0,\n",
    "    'sentences': 0\n",
    "}\n",
    "\n",
    "with open('franzkafka.txt') as quotefile:\n",
    "    quotes = quotefile.read()\n",
    "\n",
    "    strip = quotes.replace(\" \", \"\").replace('\\n', \"\").replace(\".\", \"\").replace(\",\", \"\")\n",
    "    chars = list(strip)\n",
    "\n",
    "    # print(strip)\n",
    "    # print(char)\n",
    "\n",
    "    text_dict['characters'] = len(chars)\n",
    "    text_dict['lines'] = quotes.count('\\n')\n",
    "    text_dict['words'] = len(quotes.split())\n",
    "    text_dict['sentences'] = quotes.count(\".\")\n",
    "\n",
    "    print('chars',chars)\n",
    "    print(\"Number of Characters (excluding withespace and punctuation): \", text_dict['characters'])\n",
    "    print(\"Number of Lines: \", text_dict['lines'])\n",
    "    print(\"Number of Words: \", text_dict['words'])\n",
    "    print(\"Number of Sentences: \", text_dict['sentences'])"
   ]
  },
  {
   "cell_type": "code",
   "execution_count": 2,
   "id": "92e9934f-a0ab-44a2-b324-8b6bf2f92d22",
   "metadata": {},
   "outputs": [
    {
     "name": "stdin",
     "output_type": "stream",
     "text": [
      "Give an adjective?  jeremy\n",
      "Give me an verb?  xigou\n",
      "Give me an noun?  dog\n",
      "Give me an another noun?  very dog\n"
     ]
    },
    {
     "name": "stdout",
     "output_type": "stream",
     "text": [
      "\n",
      " The jeremy panda walked to the dog and then xigou. A nearby very dog was unaffected by these events very dog. \n",
      "\n",
      " ['The', 'jeremy', 'panda', 'walked', 'to', 'the', 'NOUN', 'and', 'then', 'xigou.', 'A', 'nearby', 'NOUN', 'was', 'unaffected', 'by', 'these', 'events', 'NOUN.']\n"
     ]
    }
   ],
   "source": [
    "adjective = input(\"Give an adjective? \")\n",
    "verb = input(\"Give me an verb? \")\n",
    "noun = input(\"Give me an noun? \")\n",
    "anothernoun = input(\"Give me an another noun? \")\n",
    "\n",
    "with open(\"madlibs.txt\") as madlibsfile:\n",
    "    madlibs = madlibsfile.read()\n",
    "\n",
    "    madlibs = madlibs.replace('ADJECTIVE', adjective).replace(\"VERB\", verb)\n",
    "\n",
    "    count = 1\n",
    "    \n",
    "    newstring = \"\"\n",
    "    \n",
    "    split = madlibs.split()\n",
    "    \n",
    "    for word in split:\n",
    "        if word == \"NOUN\" and count == 1:\n",
    "            word = word.replace(\"NOUN\", noun)\n",
    "            count += 1\n",
    "            \n",
    "        else: \n",
    "            word = word.replace(\"NOUN\", anothernoun)\n",
    "\n",
    "        newstring += word + \" \" \n",
    "\n",
    "outputmadlibsfile = open('outputmadllibs.txt', \"w+\")\n",
    "outputmadlibsfile.write(newstring)\n",
    "outputmadlibsfile.close()\n",
    "\n",
    "print('\\n', newstring)\n",
    "print('\\n',split)"
   ]
  },
  {
   "cell_type": "code",
   "execution_count": null,
   "id": "c7b0b1ab-62e2-448d-a1ee-bb9a3608861d",
   "metadata": {},
   "outputs": [],
   "source": []
  }
 ],
 "metadata": {
  "kernelspec": {
   "display_name": "Python 3 (ipykernel)",
   "language": "python",
   "name": "python3"
  },
  "language_info": {
   "codemirror_mode": {
    "name": "ipython",
    "version": 3
   },
   "file_extension": ".py",
   "mimetype": "text/x-python",
   "name": "python",
   "nbconvert_exporter": "python",
   "pygments_lexer": "ipython3",
   "version": "3.11.7"
  }
 },
 "nbformat": 4,
 "nbformat_minor": 5
}
