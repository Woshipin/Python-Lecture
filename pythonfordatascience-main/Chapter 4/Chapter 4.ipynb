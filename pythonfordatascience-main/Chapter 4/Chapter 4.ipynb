{
 "cells": [
  {
   "cell_type": "code",
   "execution_count": 1,
   "id": "c38d4796-ee55-4ff7-acd2-e47569ef2edd",
   "metadata": {},
   "outputs": [
    {
     "name": "stdout",
     "output_type": "stream",
     "text": [
      "Original List 1 Items: \n",
      "physics\n",
      "chemistry\n",
      "1993\n",
      "1990\n",
      "1997\n",
      "2000\n",
      "\n",
      "New List 1 Items: \n",
      "physics\n",
      "chemistry\n",
      "biology\n",
      "1990\n",
      "1997\n",
      "2000\n"
     ]
    }
   ],
   "source": [
    "list1 = ['physics', 'chemistry', 1993, 1990, 1997, 2000]\n",
    "print(\"Original List 1 Items: \")\n",
    "\n",
    "for item in list1: \n",
    "    print(item)\n",
    "\n",
    "print()\n",
    "\n",
    "list1[2] = 'biology'\n",
    "print(\"New List 1 Items: \")\n",
    "for item in list1: \n",
    "    print(item)"
   ]
  },
  {
   "cell_type": "code",
   "execution_count": 2,
   "id": "16a8ba9b-922b-42d5-805b-d65615d28742",
   "metadata": {},
   "outputs": [
    {
     "name": "stdout",
     "output_type": "stream",
     "text": [
      "Original List 1 Items: \n",
      "physics\n",
      "chemistry\n",
      "biology\n",
      "1990\n",
      "1997\n",
      "2000\n",
      "\n",
      "\n",
      "Tuple 2 Items:  ('mathematics', 'additional mathematics')\n",
      "\n",
      "Tuple 3 Items:  (1990, 1993, 1995, 1997, 1999)\n",
      "\n",
      "Tuple 4 Items:  ('physics', 'chemistry', 1993, 1990, 1997, 2000, 'mathematics', 'additional mathematics', 'mathematics', 'additional mathematics', 1995, 1997, 1999)\n"
     ]
    }
   ],
   "source": [
    "tuple1 = ('physics', 'chemistry', 1993, 1990, 1997, 2000)\n",
    "print(\"Original List 1 Items: \")\n",
    "\n",
    "for item in list1: \n",
    "    print(item)\n",
    "\n",
    "print()\n",
    "\n",
    "# This will produce an error\n",
    "# Because tuple is immutable (cannot change any of its elements' value\n",
    "# tuple[2] = 'biology'\n",
    "\n",
    "tuple2 = ('mathematics', 'additional mathematics')\n",
    "tuple3 = (1990, 1993, 1995, 1997, 1999)\n",
    "tuple4 = tuple1 + (tuple2 * 2) + tuple3[2:]\n",
    "\n",
    "print(\"\\nTuple 2 Items: \", tuple2)\n",
    "print(\"\\nTuple 3 Items: \", tuple3)\n",
    "print(\"\\nTuple 4 Items: \", tuple4)"
   ]
  },
  {
   "cell_type": "code",
   "execution_count": 3,
   "id": "a28755cb-c3ab-4f48-a614-02cf25d5575e",
   "metadata": {},
   "outputs": [
    {
     "name": "stdout",
     "output_type": "stream",
     "text": [
      "Original List 1 Items: \n",
      "physics\n",
      "chemistry\n",
      "1993\n",
      "1990\n",
      "1997\n",
      "2000\n",
      "\n",
      "New List 1 Items: \n",
      "physics\n",
      "chemistry\n",
      "biology\n"
     ]
    }
   ],
   "source": [
    "list1 = ['physics', 'chemistry', 1993, 1990, 1997, 2000]\n",
    "print(\"Original List 1 Items: \")\n",
    "\n",
    "for item in list1: \n",
    "    print(item)\n",
    "\n",
    "print()\n",
    "\n",
    "list1[2] = 'biology'\n",
    "del list1[3:]\n",
    "\n",
    "print(\"New List 1 Items: \")\n",
    "for item in list1: \n",
    "    print(item)"
   ]
  },
  {
   "cell_type": "code",
   "execution_count": 4,
   "id": "d42a4aa1-aa99-440f-a377-e2afc7fc4b38",
   "metadata": {},
   "outputs": [
    {
     "name": "stdout",
     "output_type": "stream",
     "text": [
      "Original List 1 Items: \n",
      "physics\n",
      "chemistry\n",
      "biology\n",
      "\n",
      "\n",
      "Tuple 2 Items:  ('mathematics', 'additional mathematics')\n",
      "\n",
      "Tuple 3 Items:  (1990, 1993, 1995, 1997, 1999)\n",
      "\n",
      "Tuple 4 Items:  ('physics', 'chemistry', 1993, 1990, 1997, 2000, 'mathematics', 'additional mathematics', 'mathematics', 'additional mathematics', 1995, 1997, 1999)\n"
     ]
    }
   ],
   "source": [
    "tuple1 = ('physics', 'chemistry', 1993, 1990, 1997, 2000)\n",
    "print(\"Original List 1 Items: \")\n",
    "\n",
    "for item in list1: \n",
    "    print(item)\n",
    "\n",
    "print()\n",
    "\n",
    "# This will produce an error\n",
    "# Because tuple is immutable (cannot change any of its elements' value\n",
    "# tuple[2] = 'biology'\n",
    "# del tuple4[5]\n",
    "\n",
    "tuple2 = ('mathematics', 'additional mathematics')\n",
    "tuple3 = (1990, 1993, 1995, 1997, 1999)\n",
    "tuple4 = tuple1 + (tuple2 * 2) + tuple3[2:]\n",
    "\n",
    "\n",
    "print(\"\\nTuple 2 Items: \", tuple2)\n",
    "print(\"\\nTuple 3 Items: \", tuple3)\n",
    "print(\"\\nTuple 4 Items: \", tuple4)"
   ]
  },
  {
   "cell_type": "code",
   "execution_count": 5,
   "id": "4ef7309d-a522-4c4e-9f79-4a61dab7479f",
   "metadata": {},
   "outputs": [
    {
     "name": "stdin",
     "output_type": "stream",
     "text": [
      "Enter the name for cat 1 (or enter nothing to stop):  \n"
     ]
    },
    {
     "name": "stdout",
     "output_type": "stream",
     "text": [
      "The names of the cat are: \n"
     ]
    }
   ],
   "source": [
    "# Write a program that prompts the user for cat names and then displays the cat names. Use an iterative structure. \n",
    "\n",
    "cat_names = []\n",
    "i = 1\n",
    "\n",
    "while True:\n",
    "    # name = input(\"Enter the name for cat \" + str(len(cat_names)+1) + \" (or enter nothing to stop): \")\n",
    "    name = input(\"Enter the name for cat \" + str(i) + \" (or enter nothing to stop): \")\n",
    "    i += 1\n",
    "\n",
    "    if name == '':\n",
    "        break\n",
    "\n",
    "    cat_names.append(name)\n",
    "\n",
    "print(\"The names of the cat are: \")\n",
    "for cat in cat_names:\n",
    "    print(cat)"
   ]
  },
  {
   "cell_type": "code",
   "execution_count": 6,
   "id": "f42f40c6-71ed-4b5b-b0c6-1f0080eaebc3",
   "metadata": {},
   "outputs": [
    {
     "name": "stdin",
     "output_type": "stream",
     "text": [
      "Ask the Magic 8-ball a question:  aaa\n"
     ]
    },
    {
     "name": "stdout",
     "output_type": "stream",
     "text": [
      "Magic 8-ball says: Very doubtful\n"
     ]
    }
   ],
   "source": [
    "import random\n",
    "\n",
    "def magic_8_ball():\n",
    "    responses = [\n",
    "        'It is certain',\n",
    "        'It is decidedly so',\n",
    "        'Yes definitely',\n",
    "        'Reply hazy, try again',\n",
    "        'Ask again later',\n",
    "        'Better not tell you now',\n",
    "        'Cannot predict now',\n",
    "        'Concentrate and ask again',\n",
    "        'My sources say no',\n",
    "        'Outlook not so good',\n",
    "        'Very doubtful'\n",
    "    ]\n",
    "\n",
    "    question = input(\"Ask the Magic 8-ball a question: \")\n",
    "    answer = random.choice(responses)\n",
    "    print(\"Magic 8-ball says: \" + answer)\n",
    "\n",
    "if __name__ == \"__main__\":\n",
    "    magic_8_ball()"
   ]
  },
  {
   "cell_type": "raw",
   "id": "6f8090db-2036-4d67-b567-5f45392f18d8",
   "metadata": {},
   "source": [
    "# \n",
    "\n",
    "values = ['apple', 'pen', 'pineapple', 'pen']\n",
    "new_string = ''\n",
    "last_index = len(values) - 1\n",
    "index = 0\n",
    "\n",
    "for item in values: \n",
    "    \n",
    "    if index == last_index:\n",
    "        new_string += 'and ' + item\n",
    "    else:\n",
    "        new_string += item + ', '\n",
    "        \n",
    "    index += 1\n",
    "\n",
    "print(new_string)"
   ]
  },
  {
   "cell_type": "code",
   "execution_count": 7,
   "id": "8e5768c9-54ed-4c7f-8d42-e8503d6eac17",
   "metadata": {},
   "outputs": [
    {
     "name": "stdout",
     "output_type": "stream",
     "text": [
      "\n",
      "Name :  Milo\n",
      "Age :  20\n",
      "School :  Sunway College\n",
      "\n",
      "The Key in the dictionary are \n",
      "Name\n",
      "Age\n",
      "School\n",
      "Programme\n",
      "\n",
      "The Values in the dictionary are \n",
      "Milo\n",
      "20\n",
      "Sunway College\n",
      "Bachelor of Software Engineering\n"
     ]
    }
   ],
   "source": [
    "dict = {'Name': 'Milo', 'Age': 20}\n",
    "\n",
    "# print('Name: ', dict['Name'])\n",
    "# print('Age: ', dict['Age'])\n",
    "\n",
    "dict['School'] = \"Southern University College\"\n",
    "# print('Study At: ', dict['School'])\n",
    "\n",
    "dict['School'] = \"Sunway College\"\n",
    "\n",
    "print()\n",
    "for key,value in dict.items():\n",
    "    print(key, \": \", value)\n",
    "\n",
    "print(\"\\nThe Key in the dictionary are \")\n",
    "dict[\"Programme\"] = \"Bachelor of Software Engineering\"\n",
    "for key in dict.keys():\n",
    "    print(key)\n",
    "\n",
    "print(\"\\nThe Values in the dictionary are \")\n",
    "for value in dict.values():\n",
    "    print(value)"
   ]
  },
  {
   "cell_type": "code",
   "execution_count": null,
   "id": "282cd1d7-f4a6-4907-8525-f21a28312844",
   "metadata": {},
   "outputs": [],
   "source": []
  }
 ],
 "metadata": {
  "kernelspec": {
   "display_name": "Python 3 (ipykernel)",
   "language": "python",
   "name": "python3"
  },
  "language_info": {
   "codemirror_mode": {
    "name": "ipython",
    "version": 3
   },
   "file_extension": ".py",
   "mimetype": "text/x-python",
   "name": "python",
   "nbconvert_exporter": "python",
   "pygments_lexer": "ipython3",
   "version": "3.11.7"
  }
 },
 "nbformat": 4,
 "nbformat_minor": 5
}
