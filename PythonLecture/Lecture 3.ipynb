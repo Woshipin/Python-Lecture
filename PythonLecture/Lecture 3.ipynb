{
 "cells": [
  {
   "cell_type": "code",
   "execution_count": 2,
   "id": "b8922868-4a70-480e-a7ee-7d003b794e65",
   "metadata": {},
   "outputs": [],
   "source": [
    "def printme(message):\n",
    "    \"This function prints whatever it is inside it.\"\n",
    "\n",
    "    print(message)"
   ]
  },
  {
   "cell_type": "code",
   "execution_count": 3,
   "id": "a47ef1db-3ca1-42b9-8c47-abb473df7125",
   "metadata": {},
   "outputs": [
    {
     "name": "stdout",
     "output_type": "stream",
     "text": [
      "Thank God it's Friday\n"
     ]
    }
   ],
   "source": [
    "printme(\"Thank God it's Friday\")"
   ]
  },
  {
   "cell_type": "code",
   "execution_count": 21,
   "id": "5ef28168-39d8-4130-85d3-338233801a33",
   "metadata": {},
   "outputs": [],
   "source": [
    "def changeme(mylist) :\n",
    "    \"This changes a passed list\"\n",
    "    mylist.append([1, 2, 3, 4])\n",
    "\n",
    "    mylist.append(\"a\")\n",
    "    mylist.append(3.95)\n",
    "    \n",
    "    print(\"Values that are inside mylist: \" + str(mylist))\n"
   ]
  },
  {
   "cell_type": "code",
   "execution_count": 20,
   "id": "99d1c16c-0b7a-436b-b5e7-d0d9126d7565",
   "metadata": {},
   "outputs": [
    {
     "name": "stdout",
     "output_type": "stream",
     "text": [
      "Original muylist values:  [10, 20, 30]\n",
      "Values inside mylist: [10, 20, 30, [1, 2, 3, 4]]\n",
      "Values that are outside change name: [10, 20, 30, [1, 2, 3, 4]]\n"
     ]
    }
   ],
   "source": [
    "mylist = [10, 20, 30]\n",
    "print(\"Original muylist values: \", mylist)\n",
    "\n",
    "changeme(mylist)\n",
    "print(\"Values that are outside change name: \"+ str(mylist))"
   ]
  },
  {
   "cell_type": "code",
   "execution_count": 28,
   "id": "62e917c0-c4a1-4fb0-b8a6-4b2205d62bfd",
   "metadata": {},
   "outputs": [],
   "source": [
    "sum = lambda x,y: x+y\n",
    "sub = lambda x,y: x-y\n",
    "mul = lambda x,y: x*y\n",
    "div = lambda x,y: x/y"
   ]
  },
  {
   "cell_type": "code",
   "execution_count": 29,
   "id": "5c992ae9-3818-431f-9901-f9f4c4bc501b",
   "metadata": {},
   "outputs": [
    {
     "name": "stdout",
     "output_type": "stream",
     "text": [
      "Total of x and y is 150\n",
      "100 minus 50 is 50\n",
      "100 mutliply 50 is 5000\n",
      "100 divide 50 is 2.0\n"
     ]
    }
   ],
   "source": [
    "print(\"Total of x and y is\", sum(100, 50))\n",
    "print(\"100 minus 50 is\", sub(100, 50))\n",
    "print(\"100 mutliply 50 is\", mul(100, 50))\n",
    "print(\"100 divide 50 is\", div(100, 50))\n"
   ]
  },
  {
   "cell_type": "code",
   "execution_count": 1,
   "id": "02648801-a259-4f30-a51d-3311f1e65c55",
   "metadata": {},
   "outputs": [],
   "source": [
    "# The Lottery Exercise\n",
    "from random import randint\n",
    "\n",
    "minimum = 1\n",
    "maximum = 100\n",
    "draw_length = 5\n",
    "\n",
    "def generate_number(minimum=100, maximum=10, draw_length=5):\n",
    "    lottery_num = []\n",
    "    \n",
    "    while len(lottery_num) < draw_length:\n",
    "        randos = randint(minimum, maximum)\n",
    "    \n",
    "        if randos not in lottery_num:\n",
    "            lottery_num.append(randos)\n",
    "    \n",
    "    return lottery_num"
   ]
  },
  {
   "cell_type": "code",
   "execution_count": 2,
   "id": "d9743897-061e-44c9-aa2b-856d2a51cc34",
   "metadata": {
    "jupyter": {
     "source_hidden": true
    },
    "scrolled": true
   },
   "outputs": [
    {
     "data": {
      "text/plain": [
       "[7, 9, 3, 8, 2]"
      ]
     },
     "execution_count": 2,
     "metadata": {},
     "output_type": "execute_result"
    }
   ],
   "source": [
    "generate_number(1)"
   ]
  },
  {
   "cell_type": "code",
   "execution_count": 3,
   "id": "5fb7cf29-e08b-4fed-888c-1d4c53a79869",
   "metadata": {},
   "outputs": [
    {
     "ename": "ModuleNotFoundError",
     "evalue": "No module named 'Lottery'",
     "output_type": "error",
     "traceback": [
      "\u001b[1;31m---------------------------------------------------------------------------\u001b[0m",
      "\u001b[1;31mModuleNotFoundError\u001b[0m                       Traceback (most recent call last)",
      "Cell \u001b[1;32mIn[3], line 1\u001b[0m\n\u001b[1;32m----> 1\u001b[0m \u001b[38;5;28;01mfrom\u001b[39;00m \u001b[38;5;21;01mLottery\u001b[39;00m \u001b[38;5;28;01mimport\u001b[39;00m \u001b[38;5;241m*\u001b[39m\n\u001b[0;32m      3\u001b[0m l \u001b[38;5;241m=\u001b[39m Lottery()\n\u001b[0;32m      4\u001b[0m numbers \u001b[38;5;241m=\u001b[39m l\u001b[38;5;241m.\u001b[39mgenerate_number(\u001b[38;5;241m100\u001b[39m, \u001b[38;5;241m200\u001b[39m, \u001b[38;5;241m5\u001b[39m)\n",
      "\u001b[1;31mModuleNotFoundError\u001b[0m: No module named 'Lottery'"
     ]
    }
   ],
   "source": [
    "from Lottery import *\n",
    "\n",
    "l = Lottery()\n",
    "numbers = l.generate_number(100, 200, 5)\n",
    "print(numbers)\n"
   ]
  },
  {
   "cell_type": "code",
   "execution_count": null,
   "id": "bb736a18-e163-4f8f-bff6-d632a429203f",
   "metadata": {},
   "outputs": [],
   "source": []
  },
  {
   "cell_type": "code",
   "execution_count": null,
   "id": "ff4e4068-c4c1-46c6-aaae-fea7146037f7",
   "metadata": {},
   "outputs": [],
   "source": []
  }
 ],
 "metadata": {
  "kernelspec": {
   "display_name": "Python 3 (ipykernel)",
   "language": "python",
   "name": "python3"
  },
  "language_info": {
   "codemirror_mode": {
    "name": "ipython",
    "version": 3
   },
   "file_extension": ".py",
   "mimetype": "text/x-python",
   "name": "python",
   "nbconvert_exporter": "python",
   "pygments_lexer": "ipython3",
   "version": "3.11.7"
  }
 },
 "nbformat": 4,
 "nbformat_minor": 5
}
