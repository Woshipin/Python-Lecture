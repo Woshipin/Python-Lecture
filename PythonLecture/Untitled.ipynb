{
 "cells": [
  {
   "cell_type": "code",
   "execution_count": null,
   "id": "8b090d62-7a3b-4cb9-b95a-4619eebef15f",
   "metadata": {},
   "outputs": [],
   "source": [
    "from random import randint\n",
    "\n",
    "class Lottery:\n",
    "    def generate_number(self, minimum, maximum=10, draw_length=5):\n",
    "        lottery_num = []\n",
    "        \n",
    "        while len(lottery_num) < draw_length:\n",
    "            randos = randint(minimum, maximum)\n",
    "        \n",
    "            if randos not in lottery_num:\n",
    "                lottery_num.append(randos)\n",
    "                \n",
    "        return lottery_num\n"
   ]
  }
 ],
 "metadata": {
  "kernelspec": {
   "display_name": "Python 3 (ipykernel)",
   "language": "python",
   "name": "python3"
  },
  "language_info": {
   "codemirror_mode": {
    "name": "ipython",
    "version": 3
   },
   "file_extension": ".py",
   "mimetype": "text/x-python",
   "name": "python",
   "nbconvert_exporter": "python",
   "pygments_lexer": "ipython3",
   "version": "3.11.7"
  }
 },
 "nbformat": 4,
 "nbformat_minor": 5
}
