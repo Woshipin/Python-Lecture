def printme(message):
    "This function prints whatever it is inside it."

    print(message)


printme("Thank God it's Friday")


def changeme(mylist) :
    "This changes a passed list"
    mylist.append([1, 2, 3, 4])

    mylist.append("a")
    mylist.append(3.95)
    
    print("Values that are inside mylist: " + str(mylist))



mylist = [10, 20, 30]
print("Original muylist values: ", mylist)

changeme(mylist)
print("Values that are outside change name: "+ str(mylist))


sum = lambda x,y: x+y
sub = lambda x,y: x-y
mul = lambda x,y: x*y
div = lambda x,y: x/y


print("Total of x and y is", sum(100, 50))
print("100 minus 50 is", sub(100, 50))
print("100 mutliply 50 is", mul(100, 50))
print("100 divide 50 is", div(100, 50))



# The Lottery Exercise
from random import randint

minimum = 1
maximum = 100
draw_length = 5

def generate_number(minimum=100, maximum=10, draw_length=5):
    lottery_num = []
    
    while len(lottery_num) < draw_length:
        randos = randint(minimum, maximum)
    
        if randos not in lottery_num:
            lottery_num.append(randos)
    
    return lottery_num


generate_number(1)


from Lottery import *

l = Lottery()
numbers = l.generate_number(100, 200, 5)
print(numbers)







