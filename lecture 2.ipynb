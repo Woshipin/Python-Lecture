{
 "cells": [
  {
   "cell_type": "code",
   "execution_count": 3,
   "id": "7e063c3c-55c4-4283-b10c-c43c69304f96",
   "metadata": {},
   "outputs": [
    {
     "name": "stdin",
     "output_type": "stream",
     "text": [
      "Input Your Name: Poh Wai Khang\n",
      "Input Your Age: 2000\n"
     ]
    },
    {
     "name": "stdout",
     "output_type": "stream",
     "text": [
      "You are not Alice, grannie.\n"
     ]
    }
   ],
   "source": [
    "name = input('Input Your Name:')\n",
    "\n",
    "age = int(input('Input Your Age:'))\n",
    "\n",
    "if name == \"Alice\":\n",
    "    print(\"Hi, ALice\")\n",
    "elif age < 12 :\n",
    "    print(\"You are not alice,kiddo.\")\n",
    "elif age > 2000:\n",
    "    print(\"Unlike you, Alice is not an undead, immortal vampire.\")\n",
    "elif age > 100:\n",
    "    print(\"You are not Alice, grannie.\")\n",
    "elif name == \"Poh Wai Khang\":\n",
    "    print(name + \"is 细狗\")\n",
    "\n",
    "\n"
   ]
  },
  {
   "cell_type": "code",
   "execution_count": 4,
   "id": "bf70dd32-79a8-414c-88c4-0abc1a941bf2",
   "metadata": {},
   "outputs": [
    {
     "name": "stdout",
     "output_type": "stream",
     "text": [
      "Hello, world.\n",
      "Hello, world.\n",
      "Hello, world.\n",
      "Hello, world.\n",
      "Hello, world.\n",
      "End\n"
     ]
    }
   ],
   "source": [
    "# 初始化变量\n",
    "spam = 0\n",
    "\n",
    "# 循环条件\n",
    "while spam < 5:\n",
    "    print('Hello, world.')\n",
    "    spam = spam + 1\n",
    "\n",
    "# 结束\n",
    "print('End')"
   ]
  },
  {
   "cell_type": "code",
   "execution_count": null,
   "id": "66232970-fb58-44fe-803a-09a3163f7f40",
   "metadata": {},
   "outputs": [
    {
     "name": "stdout",
     "output_type": "stream",
     "text": [
      "Please type your name.\n"
     ]
    }
   ],
   "source": [
    "# 初始化变量\n",
    "name = \"\"\n",
    "\n",
    "# 循环条件\n",
    "while name != \"your name\":\n",
    "    print(\"Please type your name.\")\n",
    "    name = input()\n",
    "\n",
    "# 循环结束后的操作\n",
    "print(\"Thank you!\")"
   ]
  },
  {
   "cell_type": "code",
   "execution_count": 6,
   "id": "85920655-b983-4abe-ba46-725ae5a09e58",
   "metadata": {},
   "outputs": [
    {
     "name": "stdout",
     "output_type": "stream",
     "text": [
      "Please type your name.\n"
     ]
    },
    {
     "name": "stdin",
     "output_type": "stream",
     "text": [
      " your name\n"
     ]
    },
    {
     "name": "stdout",
     "output_type": "stream",
     "text": [
      "Thank you!\n"
     ]
    }
   ],
   "source": [
    "# 初始化变量\n",
    "name = \"\"\n",
    "\n",
    "# 无限循环\n",
    "while True:\n",
    "    print(\"Please type your name.\")\n",
    "    name = input()\n",
    "    \n",
    "    # 检查输入的名字是否为 'your name'\n",
    "    if name == \"your name\":\n",
    "        break\n",
    "\n",
    "# 循环结束后的操作\n",
    "print(\"Thank you!\")"
   ]
  },
  {
   "cell_type": "code",
   "execution_count": 7,
   "id": "c372c88f-2f2b-42d3-a423-8d26f68d1a0a",
   "metadata": {},
   "outputs": [
    {
     "name": "stdout",
     "output_type": "stream",
     "text": [
      "Who are you?\n"
     ]
    },
    {
     "name": "stdin",
     "output_type": "stream",
     "text": [
      " joe\n"
     ]
    },
    {
     "name": "stdout",
     "output_type": "stream",
     "text": [
      "Who are you?\n"
     ]
    },
    {
     "name": "stdin",
     "output_type": "stream",
     "text": [
      " Joe\n"
     ]
    },
    {
     "name": "stdout",
     "output_type": "stream",
     "text": [
      "Hello, Joe. What is the password? (It is a fish.)\n"
     ]
    },
    {
     "name": "stdin",
     "output_type": "stream",
     "text": [
      " swordfish\n"
     ]
    },
    {
     "name": "stdout",
     "output_type": "stream",
     "text": [
      "Access Granted.\n"
     ]
    }
   ],
   "source": [
    "# 无限循环\n",
    "while True:\n",
    "    # 初始化变量\n",
    "    name = \"\"\n",
    "    \n",
    "    # 循环条件\n",
    "    while True:\n",
    "        print(\"Who are you?\")\n",
    "        name = input()\n",
    "        \n",
    "        if name != \"Joe\":\n",
    "            continue\n",
    "        else:\n",
    "            break\n",
    "\n",
    "    print(\"Hello, Joe. What is the password? (It is a fish.)\")\n",
    "    password = input()\n",
    "    \n",
    "    if password == \"swordfish\":\n",
    "        break\n",
    "\n",
    "# 循环结束后的操作\n",
    "print(\"Access Granted.\")"
   ]
  },
  {
   "cell_type": "code",
   "execution_count": 8,
   "id": "6b29208a-39b7-46da-8b9e-666b9cb56c47",
   "metadata": {},
   "outputs": [
    {
     "name": "stdout",
     "output_type": "stream",
     "text": [
      "My name is \n",
      "Given only one argument in range()\n",
      "Jimy Five Times (0)\n",
      "Jimy Five Times (1)\n",
      "Jimy Five Times (2)\n",
      "Jimy Five Times (3)\n",
      "Jimy Five Times (4)\n",
      "Given only two arguments in range()\n",
      "Jimy Five Times (2)\n",
      "Jimy Five Times (3)\n",
      "Jimy Five Times (4)\n",
      "Jimy Five Times (5)\n",
      "Jimy Five Times (6)\n",
      "Jimy Five Times (7)\n",
      "Jimy Five Times (8)\n",
      "Jimy Five Times (9)\n",
      "Jimy Five Times (10)\n",
      "Jimy Five Times (11)\n",
      "Jimy Five Times (12)\n",
      "Jimy Five Times (13)\n",
      "Jimy Five Times (14)\n",
      "Jimy Five Times (15)\n",
      "Jimy Five Times (16)\n",
      "Jimy Five Times (17)\n",
      "Jimy Five Times (18)\n",
      "Jimy Five Times (19)\n",
      "Jimy Five Times (20)\n",
      "Jimy Five Times (21)\n",
      "Jimy Five Times (22)\n",
      "Jimy Five Times (23)\n",
      "Jimy Five Times (24)\n",
      "Given three arguments in range()\n",
      "Jimy Five Times (2)\n",
      "Jimy Five Times (5)\n",
      "Jimy Five Times (8)\n",
      "Jimy Five Times (11)\n",
      "Jimy Five Times (14)\n",
      "Jimy Five Times (17)\n",
      "Jimy Five Times (20)\n",
      "Jimy Five Times (23)\n"
     ]
    }
   ],
   "source": [
    "print(\"My name is \")\n",
    "\n",
    "#1 The argument is the size of Loop\n",
    "print(\"Given only one argument in range()\")\n",
    "for i in range(5):\n",
    "    print(\"Jimy Five Times (\" + str(i) + \")\")\n",
    "    \n",
    "# 1st is min, 2nd is max\n",
    "print(\"Given only two arguments in range()\")\n",
    "for i in range(2, 25):\n",
    "    print(\"Jimy Five Times (\" + str(i) + \")\")\n",
    "    \n",
    "# 1st is min, 2nd is max, 3rd is step value\n",
    "print(\"Given three arguments in range()\")\n",
    "for i in range(2, 25, 3):\n",
    "    print(\"Jimy Five Times (\" + str(i) + \")\")"
   ]
  },
  {
   "cell_type": "code",
   "execution_count": null,
   "id": "e8bee570-cffa-47b8-ab29-97541b42583c",
   "metadata": {},
   "outputs": [],
   "source": []
  }
 ],
 "metadata": {
  "kernelspec": {
   "display_name": "Python 3 (ipykernel)",
   "language": "python",
   "name": "python3"
  },
  "language_info": {
   "codemirror_mode": {
    "name": "ipython",
    "version": 3
   },
   "file_extension": ".py",
   "mimetype": "text/x-python",
   "name": "python",
   "nbconvert_exporter": "python",
   "pygments_lexer": "ipython3",
   "version": "3.11.7"
  }
 },
 "nbformat": 4,
 "nbformat_minor": 5
}
